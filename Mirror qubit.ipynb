{
 "cells": [
  {
   "cell_type": "code",
   "execution_count": 1,
   "metadata": {},
   "outputs": [],
   "source": [
    "from QCircuit import *\n",
    "import numpy as np\n",
    "from matplotlib import pyplot as plt\n",
    "from scipy import constants\n",
    "%matplotlib inline"
   ]
  },
  {
   "cell_type": "code",
   "execution_count": 2,
   "metadata": {},
   "outputs": [
    {
     "name": "stderr",
     "output_type": "stream",
     "text": [
      "<ipython-input-2-ea7fc72ff61d>:28: DeprecationWarning: `np.float` is a deprecated alias for the builtin `float`. To silence this warning, use `float` by itself. Doing this will not modify any behavior and is safe. If you specifically wanted the numpy scalar type, use `np.float64` here.\n",
      "Deprecated in NumPy 1.20; for more details and guidance: https://numpy.org/devdocs/release/1.20.0-notes.html#deprecations\n",
      "  energies = np.zeros((flux_steps,4), dtype=np.float)\n",
      "C:\\notebooks\\The Great Tomb of Secrets\\Old notebooks\\QCircuit.py:349: FutureWarning: Using a non-tuple sequence for multidimensional indexing is deprecated; use `arr[tuple(seq)]` instead of `arr[seq]`. In the future this will be interpreted as an array index, `arr[np.array(seq)]`, which will result either in an error or a different result.\n",
      "  Aii = self.capacitance_matrix_variables(symbolic)[np.meshgrid(inverted_indeces, inverted_indeces)].T\n",
      "C:\\notebooks\\The Great Tomb of Secrets\\Old notebooks\\QCircuit.py:350: FutureWarning: Using a non-tuple sequence for multidimensional indexing is deprecated; use `arr[tuple(seq)]` instead of `arr[seq]`. In the future this will be interpreted as an array index, `arr[np.array(seq)]`, which will result either in an error or a different result.\n",
      "  Ain = self.capacitance_matrix_variables(symbolic)[np.meshgrid(inverted_indeces, noninverted_indeces)].T\n",
      "C:\\notebooks\\The Great Tomb of Secrets\\Old notebooks\\QCircuit.py:351: FutureWarning: Using a non-tuple sequence for multidimensional indexing is deprecated; use `arr[tuple(seq)]` instead of `arr[seq]`. In the future this will be interpreted as an array index, `arr[np.array(seq)]`, which will result either in an error or a different result.\n",
      "  Ani = self.capacitance_matrix_variables(symbolic)[np.meshgrid(noninverted_indeces, inverted_indeces)].T\n",
      "C:\\notebooks\\The Great Tomb of Secrets\\Old notebooks\\QCircuit.py:352: FutureWarning: Using a non-tuple sequence for multidimensional indexing is deprecated; use `arr[tuple(seq)]` instead of `arr[seq]`. In the future this will be interpreted as an array index, `arr[np.array(seq)]`, which will result either in an error or a different result.\n",
      "  Ann = self.capacitance_matrix_variables(symbolic)[np.meshgrid(noninverted_indeces, noninverted_indeces)].T\n",
      "<ipython-input-2-ea7fc72ff61d>:45: ComplexWarning: Casting complex values to real discards the imaginary part\n",
      "  energies[phix1_id, :] = eigenenergies\n"
     ]
    }
   ],
   "source": [
    "FQ3JJ = QCircuit()\n",
    "FQ3JJ.add_element(QJosephsonJunction('JJ1'), ['GND', '1'])\n",
    "FQ3JJ.add_element(QJosephsonJunction('JJ2'), ['GND', '2'])\n",
    "FQ3JJ.add_element(QJosephsonJunction('JJ3'), ['GND', '3'])\n",
    "FQ3JJ.add_element(QCapacitance('C1'), ['GND', '1'])\n",
    "FQ3JJ.add_element(QCapacitance('C2'), ['GND', '2'])\n",
    "FQ3JJ.add_element(QCapacitance('C3'), ['GND', '3'])\n",
    "        \n",
    "phi = QVariable('φ')\n",
    "phix1 = QVariable('φx1')\n",
    "#phix2 = QVariable('φx2')\n",
    "phi.create_grid(16, 1)\n",
    "FQ3JJ.add_variable(phi)\n",
    "FQ3JJ.add_variable(phix1)\n",
    "#FQ3JJ.add_variable(phix2)\n",
    "#FQ3JJ.map_nodes_linear(['GND', '1', '2', '3'], \n",
    "#                       ['φ', 'φx1', 'φx2'], \n",
    "#                       np.asarray([[0,0,0],[1,0,0],[1,1,0],[1,1,1]]))\n",
    "\n",
    "FQ3JJ.map_nodes_linear(['GND', '1', '2', '3'], \n",
    "                       ['φ', 'φx1'], \n",
    "                       np.asarray([[0,0],[1,0],[1,1],[1,2]]))\n",
    "\n",
    "#EjEc_ratio = 80\n",
    "alpha = 0.65\n",
    "flux_steps = 128\n",
    "#energies = np.zeros((flux_steps,flux_steps,2), dtype=np.float)\n",
    "energies = np.zeros((flux_steps,4), dtype=np.float)\n",
    "\n",
    "Ej = 200e9\n",
    "Ec = 2*1.9e-19**2/5e-15/(2*np.pi*1.054e-34)\n",
    "FQ3JJ.find_element('JJ1').set_critical_current(Ej)\n",
    "FQ3JJ.find_element('JJ2').set_critical_current(Ej)\n",
    "FQ3JJ.find_element('C1').set_capacitance(2/Ec)\n",
    "FQ3JJ.find_element('C2').set_capacitance(2/Ec)\n",
    "FQ3JJ.find_element('JJ3').set_critical_current(Ej*alpha)\n",
    "FQ3JJ.find_element('C3').set_capacitance(2*alpha/Ec)\n",
    "for phix1_id, phix1_value in enumerate(np.linspace(-np.pi, np.pi, flux_steps)):\n",
    "    #for phix2_id, phix2_value in enumerate(np.linspace(-2*np.pi, 2*np.pi, flux_steps)):\n",
    "    phix1.set_parameter(phix1_value, 0)\n",
    "        #phix2.set_parameter(phix2_value, 0)\n",
    "    FQ3JJ.calculate_potentials()\n",
    "    [eigenenergies, eigenfunctions] = FQ3JJ.diagonalize_phase(num_states=4)\n",
    "    #energies[phix1_id, phix2_id, :] = eigenenergies\n",
    "    energies[phix1_id, :] = eigenenergies\n",
    "    #print('φx1_id: {0}, φx2_id: {1}, gap: {2}'.format(phix1_id, phix2_id, eigenenergies[1]-eigenenergies[0]))"
   ]
  },
  {
   "cell_type": "code",
   "execution_count": 40,
   "metadata": {},
   "outputs": [
    {
     "data": {
      "text/plain": [
       "[<matplotlib.lines.Line2D at 0x9893400>]"
      ]
     },
     "execution_count": 40,
     "metadata": {},
     "output_type": "execute_result"
    },
    {
     "data": {
      "image/png": "[encoded data removed]",
      "text/plain": [
       "<matplotlib.figure.Figure at 0x97f0ac8>"
      ]
     },
     "metadata": {},
     "output_type": "display_data"
    }
   ],
   "source": [
    "plt.plot(energies[:,1]-energies[:,0])"
   ]
  },
  {
   "cell_type": "code",
   "execution_count": 27,
   "metadata": {},
   "outputs": [
    {
     "name": "stdout",
     "output_type": "stream",
     "text": [
      "200000000000.0\n",
      "21804529205.379208\n"
     ]
    }
   ],
   "source": [
    "print (Ej)\n",
    "print (Ec)"
   ]
  },
  {
   "cell_type": "code",
   "execution_count": null,
   "metadata": {
    "collapsed": true
   },
   "outputs": [],
   "source": []
  }
 ],
 "metadata": {
  "kernelspec": {
   "display_name": "Python 3",
   "language": "python",
   "name": "python3"
  },
  "language_info": {
   "codemirror_mode": {
    "name": "ipython",
    "version": 3
   },
   "file_extension": ".py",
   "mimetype": "text/x-python",
   "name": "python",
   "nbconvert_exporter": "python",
   "pygments_lexer": "ipython3",
   "version": "3.8.8"
  }
 },
 "nbformat": 4,
 "nbformat_minor": 1
}
